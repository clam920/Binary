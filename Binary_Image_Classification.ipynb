{
  "cells": [
    {
      "cell_type": "markdown",
      "metadata": {
        "id": "view-in-github",
        "colab_type": "text"
      },
      "source": [
        "<a href=\"https://colab.research.google.com/github/clam920/COMP-2800-BBY-08/blob/main/Binary_Image_Classification.ipynb\" target=\"_parent\"><img src=\"https://colab.research.google.com/assets/colab-badge.svg\" alt=\"Open In Colab\"/></a>"
      ]
    },
    {
      "cell_type": "code",
      "execution_count": 1,
      "metadata": {
        "id": "DAjY3ftIUoOi"
      },
      "outputs": [],
      "source": [
        "import matplotlib.pyplot as plt\n",
        "import pandas as pd\n",
        "import numpy as np\n",
        "import PIL\n",
        "\n",
        "import tensorflow as tf\n",
        "from tensorflow import keras\n",
        "from tensorflow.keras import layers\n",
        "from tensorflow.keras.layers import Dense, Flatten, BatchNormalization, Activation\n",
        "from tensorflow.keras.models import Sequential\n",
        "from tensorflow.keras.optimizers import Adam\n",
        "\n",
        "from tensorflow.keras.preprocessing.image import ImageDataGenerator\n",
        "from tensorflow.keras.preprocessing.image import load_img, img_to_array\n",
        "\n",
        "import os\n",
        "import torch\n",
        "from transformers import BertTokenizer, AutoModelForSequenceClassification\n",
        "# from transformers import XMLRobertaTokenizer\n",
        "from transformers import AutoModel, AutoTokenizer\n",
        "from transformers import RobertaTokenizer\n",
        "\n",
        "# !pip install tensorflowjs"
      ]
    },
    {
      "cell_type": "code",
      "execution_count": 2,
      "metadata": {
        "colab": {
          "base_uri": "https://localhost:8080/"
        },
        "id": "HrtLEeLlh1Bg",
        "outputId": "96aa2b20-6aaa-4b75-ec67-af3c50a19add"
      },
      "outputs": [
        {
          "output_type": "stream",
          "name": "stdout",
          "text": [
            "GPU\n"
          ]
        }
      ],
      "source": [
        "import torchvision\n",
        "\n",
        "if torch.cuda.is_available():\n",
        "  device = torch.device(\"cuda:0\")\n",
        "  print(\"GPU\")\n",
        "else:\n",
        "  device = torch.device(\"cpu\")\n",
        "  print(\"CPU\")"
      ]
    },
    {
      "cell_type": "code",
      "execution_count": 3,
      "metadata": {
        "id": "0ra3oK_4UqnU",
        "colab": {
          "base_uri": "https://localhost:8080/"
        },
        "outputId": "f0580bc1-1ed8-4754-e915-34a189a328da"
      },
      "outputs": [
        {
          "output_type": "stream",
          "name": "stdout",
          "text": [
            "Mounted at /content/drive\n"
          ]
        }
      ],
      "source": [
        "from google.colab import drive\n",
        "drive.mount('/content/drive')"
      ]
    },
    {
      "cell_type": "code",
      "execution_count": 4,
      "metadata": {
        "id": "psxSBF0GUtCm"
      },
      "outputs": [],
      "source": [
        "directory=\"/content/drive/MyDrive/Garbage_classification\"\n",
        "train_directory=\"/content/drive/MyDrive/Garbage_classification/train\"\n",
        "val_directory=\"/content/drive/MyDrive/Garbage_classification/validation\"\n",
        "test_directory=\"/content/drive/MyDrive/Garbage_classification/test\""
      ]
    },
    {
      "cell_type": "code",
      "execution_count": 5,
      "metadata": {
        "id": "JydmxIz3VWAj"
      },
      "outputs": [],
      "source": [
        "train_datagen=ImageDataGenerator(\n",
        "    rescale=1/255,\n",
        "    horizontal_flip=True,\n",
        "    height_shift_range=0.1,\n",
        "    width_shift_range=0.1,\n",
        "    brightness_range=(0.5,1.5),\n",
        "    zoom_range = [1, 1.5]\n",
        ")\n",
        "\n",
        "val_datagen=ImageDataGenerator(rescale=1/255)\n",
        "test_datagen=ImageDataGenerator(rescale=1/255)"
      ]
    },
    {
      "cell_type": "code",
      "execution_count": 6,
      "metadata": {
        "colab": {
          "base_uri": "https://localhost:8080/"
        },
        "id": "X97JIOuXWJUC",
        "outputId": "87b02f47-2170-44bb-c92f-936bcc61e5f3"
      },
      "outputs": [
        {
          "output_type": "stream",
          "name": "stdout",
          "text": [
            "Found 16501 images belonging to 8 classes.\n",
            "Found 1183 images belonging to 8 classes.\n",
            "Found 1184 images belonging to 8 classes.\n"
          ]
        }
      ],
      "source": [
        "train_ds=train_datagen.flow_from_directory(train_directory,\n",
        "                                                  target_size=(224,224),\n",
        "                                                  color_mode='rgb',\n",
        "                                                  class_mode='sparse',batch_size=32)\n",
        "\n",
        "val_ds=val_datagen.flow_from_directory(val_directory,\n",
        "                                                  target_size=(224,224),\n",
        "                                                  color_mode='rgb',\n",
        "                                                  class_mode='sparse',batch_size=32)\n",
        "\n",
        "test_ds=test_datagen.flow_from_directory(test_directory,\n",
        "                                                  target_size=(224,224),\n",
        "                                                  color_mode='rgb',\n",
        "                                                  class_mode='sparse',batch_size=32)"
      ]
    },
    {
      "cell_type": "code",
      "execution_count": 7,
      "metadata": {
        "id": "7YfjkJkKWikw",
        "colab": {
          "base_uri": "https://localhost:8080/"
        },
        "outputId": "9652face-a7c9-4d43-c0ea-9b8c69c213ae"
      },
      "outputs": [
        {
          "output_type": "stream",
          "name": "stdout",
          "text": [
            "Downloading data from https://storage.googleapis.com/tensorflow/keras-applications/resnet/resnet101v2_weights_tf_dim_ordering_tf_kernels_notop.h5\n",
            "171317808/171317808 [==============================] - 1s 0us/step\n"
          ]
        }
      ],
      "source": [
        "from keras.applications import ResNet101V2\n",
        "\n",
        "pretrained_model=ResNet101V2(input_shape=(224,224,3),\n",
        "                             include_top=False,\n",
        "                             weights='imagenet')\n",
        "\n",
        "for layer in pretrained_model.layers:\n",
        "  layer.trainable=False"
      ]
    },
    {
      "cell_type": "code",
      "execution_count": 8,
      "metadata": {
        "colab": {
          "base_uri": "https://localhost:8080/"
        },
        "id": "4MSK0NXLW07b",
        "outputId": "7a68a3c6-dfe1-4164-bca9-467e97428ca2"
      },
      "outputs": [
        {
          "output_type": "stream",
          "name": "stdout",
          "text": [
            "Model: \"sequential\"\n",
            "_________________________________________________________________\n",
            " Layer (type)                Output Shape              Param #   \n",
            "=================================================================\n",
            " resnet101v2 (Functional)    (None, 7, 7, 2048)        42626560  \n",
            "                                                                 \n",
            " flatten (Flatten)           (None, 100352)            0         \n",
            "                                                                 \n",
            " batch_normalization (Batch  (None, 100352)            401408    \n",
            " Normalization)                                                  \n",
            "                                                                 \n",
            " dense (Dense)               (None, 512)               51380736  \n",
            "                                                                 \n",
            " activation (Activation)     (None, 512)               0         \n",
            "                                                                 \n",
            " dense_1 (Dense)             (None, 256)               131328    \n",
            "                                                                 \n",
            " activation_1 (Activation)   (None, 256)               0         \n",
            "                                                                 \n",
            " dense_2 (Dense)             (None, 8)                 2056      \n",
            "                                                                 \n",
            "=================================================================\n",
            "Total params: 94542088 (360.65 MB)\n",
            "Trainable params: 51714824 (197.28 MB)\n",
            "Non-trainable params: 42827264 (163.37 MB)\n",
            "_________________________________________________________________\n",
            "None\n"
          ]
        }
      ],
      "source": [
        "model=Sequential()\n",
        "model.add(pretrained_model)\n",
        "model.add(Flatten())\n",
        "model.add(BatchNormalization())\n",
        "# model.add(Dense(1024,kernel_initializer='he_uniform'))\n",
        "# model.add(Activation('relu'))\n",
        "model.add(Dense(512,kernel_initializer='he_uniform'))\n",
        "model.add(Activation('relu'))\n",
        "model.add(Dense(256,kernel_initializer='he_uniform'))\n",
        "model.add(Activation('relu'))\n",
        "model.add(Dense(8, activation='softmax'))\n",
        "print(model.summary())"
      ]
    },
    {
      "cell_type": "code",
      "execution_count": 9,
      "metadata": {
        "colab": {
          "base_uri": "https://localhost:8080/"
        },
        "id": "pt-AfLl4YiF3",
        "outputId": "7d6a2f48-25f7-49de-9164-8e2ab06fa59f"
      },
      "outputs": [
        {
          "output_type": "stream",
          "name": "stderr",
          "text": [
            "WARNING:absl:`lr` is deprecated in Keras optimizer, please use `learning_rate` or use the legacy optimizer, e.g.,tf.keras.optimizers.legacy.Adam.\n"
          ]
        }
      ],
      "source": [
        "opt=tf.keras.optimizers.Adam(lr=0.001)\n",
        "model.compile(loss='sparse_categorical_crossentropy', metrics=['accuracy'],optimizer=opt)"
      ]
    },
    {
      "cell_type": "code",
      "execution_count": null,
      "metadata": {
        "id": "iD1GmvRTlHpN"
      },
      "outputs": [],
      "source": [
        "#  model.compile(optimizer=Adam(learning_rate=0.001),\n",
        "#                loss='categorical_crossentropy',\n",
        "#                metrics=['accuracy'])"
      ]
    },
    {
      "cell_type": "code",
      "execution_count": 11,
      "metadata": {
        "colab": {
          "base_uri": "https://localhost:8080/"
        },
        "id": "EoXUmY1mYyRv",
        "outputId": "cb15a705-4d47-4c98-e933-c142421c75d6"
      },
      "outputs": [
        {
          "output_type": "stream",
          "name": "stdout",
          "text": [
            "Epoch 1/4\n",
            "516/516 [==============================] - 7857s 15s/step - loss: 1.0393 - accuracy: 0.8007 - val_loss: 0.7618 - val_accuracy: 0.8318\n",
            "Epoch 2/4\n",
            "516/516 [==============================] - 357s 691ms/step - loss: 0.3196 - accuracy: 0.8997 - val_loss: 0.4750 - val_accuracy: 0.8943\n",
            "Epoch 3/4\n",
            "516/516 [==============================] - 355s 688ms/step - loss: 0.2452 - accuracy: 0.9235 - val_loss: 0.4701 - val_accuracy: 0.9129\n",
            "Epoch 4/4\n",
            "516/516 [==============================] - 353s 684ms/step - loss: 0.2081 - accuracy: 0.9356 - val_loss: 0.5650 - val_accuracy: 0.9011\n"
          ]
        }
      ],
      "source": [
        "history=model.fit(train_ds, validation_data=val_ds, epochs=4)"
      ]
    },
    {
      "cell_type": "code",
      "execution_count": 15,
      "metadata": {
        "id": "cY_73yiElQJh",
        "colab": {
          "base_uri": "https://localhost:8080/",
          "height": 647
        },
        "outputId": "e8cb7c1f-6bbf-4890-fac2-871dd0a19b2f"
      },
      "outputs": [
        {
          "output_type": "display_data",
          "data": {
            "text/plain": [
              "<Figure size 800x800 with 2 Axes>"
            ],
            "image/png": "[encoded data removed]"
          },
          "metadata": {}
        }
      ],
      "source": [
        "acc = history.history['accuracy']\n",
        "val_acc = history.history['val_accuracy']\n",
        "\n",
        "loss = history.history['loss']\n",
        "val_loss = history.history['val_loss']\n",
        "\n",
        "epochs_range = range(4)\n",
        "\n",
        "plt.figure(figsize=(8, 8))\n",
        "plt.subplot(1, 2, 1)\n",
        "plt.plot(epochs_range, acc, label='Training Accuracy')\n",
        "plt.plot(epochs_range, val_acc, label='Validation Accuracy')\n",
        "plt.legend(loc='lower right')\n",
        "plt.title('Training and Validation Accuracy')\n",
        "\n",
        "plt.subplot(1, 2, 2)\n",
        "plt.plot(epochs_range, loss, label='Training Loss')\n",
        "plt.plot(epochs_range, val_loss, label='Validation Loss')\n",
        "plt.legend(loc='upper right')\n",
        "plt.title('Training and Validation Loss')\n",
        "plt.show()"
      ]
    },
    {
      "cell_type": "code",
      "execution_count": 16,
      "metadata": {
        "id": "ck_TutVG14Bf",
        "colab": {
          "base_uri": "https://localhost:8080/"
        },
        "outputId": "072085b0-c239-4d5c-f9ca-34f6354c5588"
      },
      "outputs": [
        {
          "output_type": "stream",
          "name": "stdout",
          "text": [
            "37/37 [==============================] - 459s 13s/step - loss: 0.5191 - accuracy: 0.9155\n",
            "[0.5190847516059875, 0.9155405163764954]\n"
          ]
        }
      ],
      "source": [
        "test_data = model.evaluate(\n",
        "    x=test_ds,\n",
        "    y=None,\n",
        "    batch_size=32,\n",
        "    verbose=\"auto\",\n",
        "    sample_weight=None,\n",
        "    steps=None,\n",
        "    callbacks=None,\n",
        "    return_dict=False\n",
        ")\n",
        "\n",
        "print(test_data)\n",
        "\n"
      ]
    },
    {
      "cell_type": "code",
      "source": [
        "predict_data = model.predict(\n",
        "    x=test_ds,\n",
        "    verbose=0\n",
        ")\n",
        "\n",
        "print(predict_data)"
      ],
      "metadata": {
        "colab": {
          "base_uri": "https://localhost:8080/"
        },
        "id": "OcKr5eduS3xT",
        "outputId": "0ceedab1-3a76-4232-e4e4-bab570813688"
      },
      "execution_count": 17,
      "outputs": [
        {
          "output_type": "stream",
          "name": "stdout",
          "text": [
            "[[1.9419666e-28 5.6976222e-27 1.0000000e+00 ... 3.1965057e-18\n",
            "  1.3520547e-09 1.3426291e-12]\n",
            " [3.1620235e-07 3.5623753e-14 9.9992871e-01 ... 2.9444978e-11\n",
            "  7.0796428e-05 1.3837011e-07]\n",
            " [1.8184561e-23 1.0000000e+00 5.9219720e-26 ... 1.9128672e-19\n",
            "  3.5527569e-21 1.0938295e-20]\n",
            " ...\n",
            " [6.0297381e-02 3.4784433e-02 1.6473584e-03 ... 8.7290078e-01\n",
            "  7.9486659e-04 6.8990318e-03]\n",
            " [7.6027198e-11 1.6948425e-05 1.1786663e-03 ... 9.9758887e-01\n",
            "  1.1140981e-03 9.7948301e-05]\n",
            " [3.8848023e-07 3.2941206e-12 6.7177805e-04 ... 1.4715992e-11\n",
            "  5.4217828e-08 4.9312016e-10]]\n"
          ]
        }
      ]
    },
    {
      "cell_type": "code",
      "source": [
        "# Defining list with labels\n",
        "dic = ['Battery', 'Cardboard', 'Glass', 'Organic', 'Plastic', 'Paper', 'Metal', 'Trash']"
      ],
      "metadata": {
        "id": "QRjngbctTrSF"
      },
      "execution_count": null,
      "outputs": []
    },
    {
      "cell_type": "code",
      "execution_count": null,
      "metadata": {
        "id": "JRiOslK_vhMp"
      },
      "outputs": [],
      "source": [
        "from sklearn.metrics import classification_report, confusion_matrix, ConfusionMatrixDisplay\n",
        "\n",
        "Y_pred = model.predict(test_ds, verbose=0)\n",
        "y_pred = np.argmax(Y_pred, axis=1)\n",
        "\n",
        "print(classification_report(test_ds.classes, y_pred))"
      ]
    },
    {
      "cell_type": "code",
      "execution_count": null,
      "metadata": {
        "id": "zHHdN9r-A0CK"
      },
      "outputs": [],
      "source": [
        "# Confusion Matrix is a two dimensional matrix that visualizes the performance,\n",
        "# and makes it easy to see confusion between classes,\n",
        "# by providing a picture of interrelation\n",
        "\n",
        "# Each row represents a number of actual, True class\n",
        "# Each column represents a number of predicted class\n",
        "\n",
        "\n",
        "# Computing Confusion Matrix to evaluate accuracy of classification\n",
        "c_m = confusion_matrix(test_ds.classes, y_pred)\n",
        "\n",
        "# Showing Confusion Matrix in form of 2D Numpy array\n",
        "print(c_m)"
      ]
    },
    {
      "cell_type": "code",
      "execution_count": null,
      "metadata": {
        "id": "1cdduS9XA5nC"
      },
      "outputs": [],
      "source": [
        "# Magic function that renders the figure in a jupyter notebook\n",
        "# instead of displaying a figure object\n",
        "%matplotlib inline\n",
        "\n",
        "\n",
        "# Setting default size of the plot\n",
        "# Setting default fontsize used in the plot\n",
        "plt.rcParams['figure.figsize'] = (10.0, 9.0)\n",
        "plt.rcParams['font.size'] = 20\n",
        "\n",
        "\n",
        "# Implementing visualization of Confusion Matrix\n",
        "display_c_m = ConfusionMatrixDisplay(c_m, display_labels=dic)\n",
        "\n",
        "\n",
        "# Plotting Confusion Matrix\n",
        "# Setting colour map to be used\n",
        "display_c_m.plot(cmap='Blues', xticks_rotation=25)\n",
        "# Other possible options for colour map are:\n",
        "# 'autumn_r', 'Blues', 'cool', 'Greens', 'Greys', 'PuRd', 'copper_r'\n",
        "\n",
        "\n",
        "# Setting fontsize for xticks and yticks\n",
        "plt.xticks(fontsize=15)\n",
        "plt.yticks(fontsize=15)\n",
        "\n",
        "\n",
        "# Giving name to the plot\n",
        "plt.title('Confusion Matrix', fontsize=24)\n",
        "\n",
        "\n",
        "# Saving plot\n",
        "plt.savefig('confusion_matrix.png', transparent=True, dpi=500)\n",
        "\n",
        "\n",
        "# Showing the plot\n",
        "plt.show()\n"
      ]
    },
    {
      "cell_type": "code",
      "source": [
        "model.save(\"/content/drive/MyDrive/model3.keras\")"
      ],
      "metadata": {
        "id": "vEJv-QGTes-R"
      },
      "execution_count": 20,
      "outputs": []
    },
    {
      "cell_type": "code",
      "source": [
        "# SAVE MODEL (KERAS, FOR REUSING)\n",
        "model.save(\"/content/drive/MyDrive/Trained Model/model2.keras\")\n",
        "# OUTPUT: KERAS FILE"
      ],
      "metadata": {
        "id": "Xi-mxMx3HKrv"
      },
      "execution_count": null,
      "outputs": []
    },
    {
      "cell_type": "code",
      "source": [
        "# LOAD THE MODEL THAT WE JUST SAVED (helps us test without training model again)\n",
        "model = tf.keras.models.load_model(\n",
        "    \"/content/drive/MyDrive/Trained Model/model2.keras\", custom_objects=None, compile=True, safe_mode=True\n",
        ")"
      ],
      "metadata": {
        "id": "Zz2rG7EEQq-j"
      },
      "execution_count": null,
      "outputs": []
    },
    {
      "cell_type": "code",
      "source": [
        "model.summary();"
      ],
      "metadata": {
        "id": "nznNEXX6rk2U"
      },
      "execution_count": null,
      "outputs": []
    },
    {
      "cell_type": "code",
      "source": [
        "# TESTING, but just for one image\n",
        "img = tf.keras.utils.load_img(\n",
        "    \"/content/drive/MyDrive/Garbage classification mini/metal/Copy of metal1.jpg\", target_size=(224, 224)\n",
        ")\n",
        "img_array = tf.keras.utils.img_to_array(img)\n",
        "img_array = img_array / 255.0\n",
        "img_array = tf.expand_dims(img_array, 0) # Create a batch\n",
        "\n",
        "predictions = model.predict(img_array)\n",
        "\n",
        "# print(predictions)\n",
        "print(predictions[0]);\n",
        "\n",
        "score = tf.nn.softmax(predictions[0])\n",
        "\n",
        "print(\n",
        "    \"This image most likely belongs to {} with a {:.2f} percent confidence.\"\n",
        "    .format(dic[np.argmax(score)], 100 * np.max(score))\n",
        ");"
      ],
      "metadata": {
        "id": "W2p6XvUYkxDN"
      },
      "execution_count": null,
      "outputs": []
    },
    {
      "cell_type": "code",
      "execution_count": null,
      "metadata": {
        "id": "sdq2xgZnnGxQ"
      },
      "outputs": [],
      "source": [
        "# SAVE MODEL (JSON, FOR EXPORTING TO JAVASCRIPT)\n",
        "import tensorflowjs as tfjs\n",
        "tfjs.converters.save_keras_model(model, \"/content/drive/MyDrive/Trained Model\")\n",
        "# OUTPUT: JSON + BIN FILES"
      ]
    }
  ],
  "metadata": {
    "accelerator": "GPU",
    "colab": {
      "gpuType": "T4",
      "provenance": [],
      "toc_visible": true,
      "include_colab_link": true
    },
    "kernelspec": {
      "display_name": "Python 3",
      "name": "python3"
    },
    "language_info": {
      "name": "python"
    }
  },
  "nbformat": 4,
  "nbformat_minor": 0
}